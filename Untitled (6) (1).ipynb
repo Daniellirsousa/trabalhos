{
 "cells": [
  {
   "cell_type": "markdown",
   "metadata": {},
   "source": [
    "# Danielli Ramires Sousa <h1>\n",
    "# RA: 19130687-7 </h1><h1>\n",
    "\n",
    "# Dados Categorizados II </h1><h1>\n",
    "\n",
    "# Avaliação 1 - 29/04/2020 </h1><h1>\n",
    "\n",
    "\n",
    "\n",
    "# </h1><h1>\n",
    "\n",
    "\n",
    "\n",
    "\n",
    "# Apostila 1\n",
    "\n",
    "# Exercício 2\n",
    "Estudando a relação entre problemas psiquiátricos diagnosticandos (Psicotico ou Neurotico) e tendências suicidas (Presente e Ausente), o pesquisador encontrou os seguintes valores:</h1>"
   ]
  },
  {
   "cell_type": "code",
   "execution_count": 1,
   "metadata": {},
   "outputs": [
    {
     "data": {
      "text/html": [
       "<table>\n",
       "<caption>A data.frame: 2 × 2</caption>\n",
       "<thead>\n",
       "\t<tr><th></th><th scope=col>Psicotico</th><th scope=col>Neurotico</th></tr>\n",
       "\t<tr><th></th><th scope=col>&lt;dbl&gt;</th><th scope=col>&lt;dbl&gt;</th></tr>\n",
       "</thead>\n",
       "<tbody>\n",
       "\t<tr><th scope=row>Presente</th><td> 2</td><td> 6</td></tr>\n",
       "\t<tr><th scope=row>Ausente</th><td>18</td><td>14</td></tr>\n",
       "</tbody>\n",
       "</table>\n"
      ],
      "text/latex": [
       "A data.frame: 2 × 2\n",
       "\\begin{tabular}{r|ll}\n",
       "  & Psicotico & Neurotico\\\\\n",
       "  & <dbl> & <dbl>\\\\\n",
       "\\hline\n",
       "\tPresente &  2 &  6\\\\\n",
       "\tAusente & 18 & 14\\\\\n",
       "\\end{tabular}\n"
      ],
      "text/markdown": [
       "\n",
       "A data.frame: 2 × 2\n",
       "\n",
       "| <!--/--> | Psicotico &lt;dbl&gt; | Neurotico &lt;dbl&gt; |\n",
       "|---|---|---|\n",
       "| Presente |  2 |  6 |\n",
       "| Ausente | 18 | 14 |\n",
       "\n"
      ],
      "text/plain": [
       "         Psicotico Neurotico\n",
       "Presente  2         6       \n",
       "Ausente  18        14       "
      ]
     },
     "metadata": {},
     "output_type": "display_data"
    }
   ],
   "source": [
    "suicidas <- data.frame(Psicotico = c(2, 18), \n",
    "                       Neurotico = c(6, 14))\n",
    "rownames(suicidas) <-c(\"Presente\", \"Ausente\")\n",
    "suicidas"
   ]
  },
  {
   "cell_type": "markdown",
   "metadata": {},
   "source": [
    "Aplique uma estimativa bayesiana para medidas de associação, utilizando priori de Jeffrey, para verificar se as tendências suicidas são maiores em um paciente com quadro Neurotico."
   ]
  },
  {
   "cell_type": "markdown",
   "metadata": {},
   "source": [
    "# Resolução\n",
    "\n",
    "Queremos estudar se tendências suicídas estão mais presentes em pacientes neuróticos do que pacientes psicóticos. Para fins de interpretação do enunciado.\n",
    "Com isso temos:\n",
    "\n",
    "H0 = suicídicos (\"presente\") em pacientes neuroticos &lt; suicídios (\"presente\") em pacientes psicóticos\n",
    "\n",
    "H1 = suicídicos (\"presente\") em pacientes neuroticos &gt; suicídios (\"presente\") em pacientes psicóticos\n",
    "\n",
    "Com isso, reajustamos a tabela acima.\n"
   ]
  },
  {
   "cell_type": "code",
   "execution_count": 2,
   "metadata": {},
   "outputs": [
    {
     "data": {
      "text/html": [
       "<table>\n",
       "<caption>A data.frame: 2 × 2</caption>\n",
       "<thead>\n",
       "\t<tr><th></th><th scope=col>Presente</th><th scope=col>Ausente</th></tr>\n",
       "\t<tr><th></th><th scope=col>&lt;dbl&gt;</th><th scope=col>&lt;dbl&gt;</th></tr>\n",
       "</thead>\n",
       "<tbody>\n",
       "\t<tr><th scope=row>Neurotico</th><td>6</td><td>14</td></tr>\n",
       "\t<tr><th scope=row>Psicotico</th><td>2</td><td>18</td></tr>\n",
       "</tbody>\n",
       "</table>\n"
      ],
      "text/latex": [
       "A data.frame: 2 × 2\n",
       "\\begin{tabular}{r|ll}\n",
       "  & Presente & Ausente\\\\\n",
       "  & <dbl> & <dbl>\\\\\n",
       "\\hline\n",
       "\tNeurotico & 6 & 14\\\\\n",
       "\tPsicotico & 2 & 18\\\\\n",
       "\\end{tabular}\n"
      ],
      "text/markdown": [
       "\n",
       "A data.frame: 2 × 2\n",
       "\n",
       "| <!--/--> | Presente &lt;dbl&gt; | Ausente &lt;dbl&gt; |\n",
       "|---|---|---|\n",
       "| Neurotico | 6 | 14 |\n",
       "| Psicotico | 2 | 18 |\n",
       "\n"
      ],
      "text/plain": [
       "          Presente Ausente\n",
       "Neurotico 6        14     \n",
       "Psicotico 2        18     "
      ]
     },
     "metadata": {},
     "output_type": "display_data"
    }
   ],
   "source": [
    "suicida <- data.frame(Presente = c(6, 2), \n",
    "                       Ausente = c(14, 18))\n",
    "rownames(suicida) <-c(\"Neurotico\", \"Psicotico\")\n",
    "suicida"
   ]
  },
  {
   "cell_type": "markdown",
   "metadata": {},
   "source": [
    "Para um teste de 10 mil simulações, temos:"
   ]
  },
  {
   "cell_type": "code",
   "execution_count": 3,
   "metadata": {},
   "outputs": [
    {
     "data": {
      "image/png": "[encoded data removed]",
      "text/plain": [
       "Plot with title “Histogram of p_priori”"
      ]
     },
     "metadata": {},
     "output_type": "display_data"
    }
   ],
   "source": [
    "p_priori <- rbeta(10000, shape1 = 0.5, shape2 = 0.5)\n",
    "hist(p_priori)"
   ]
  },
  {
   "cell_type": "markdown",
   "metadata": {},
   "source": [
    "Aplicando ao nosso conjunto de dados, temos:"
   ]
  },
  {
   "cell_type": "code",
   "execution_count": 4,
   "metadata": {},
   "outputs": [
    {
     "data": {
      "image/png": "[encoded data removed]",
      "text/plain": [
       "Plot with title “Histogram of psico”"
      ]
     },
     "metadata": {},
     "output_type": "display_data"
    }
   ],
   "source": [
    "neuro <- rbeta(100000, \n",
    "                   shape1 = suicida[1,1] + 0.5, \n",
    "                   shape2 = sum(suicida[1,]) - suicida[1,1] + 0.5) \n",
    "psico <- rbeta(100000,\n",
    "                   shape1 = suicida[2,1] + 0.5,\n",
    "                   shape2 = sum(suicida[2,]) - suicida[2,1] + 0.5)\n",
    "par(mfrow=c(1,2))\n",
    "hist(neuro) \n",
    "hist(psico) "
   ]
  },
  {
   "cell_type": "markdown",
   "metadata": {},
   "source": [
    "Portanto, temos que a razão de chance para cada simulação será (com intervalo de 95%):"
   ]
  },
  {
   "cell_type": "code",
   "execution_count": 5,
   "metadata": {},
   "outputs": [
    {
     "data": {
      "text/html": [
       "<style>\n",
       ".dl-inline {width: auto; margin:0; padding: 0}\n",
       ".dl-inline>dt, .dl-inline>dd {float: none; width: auto; display: inline-block}\n",
       ".dl-inline>dt::after {content: \":\\0020\"; padding-right: .5ex}\n",
       ".dl-inline>dt:not(:first-of-type) {padding-left: .5ex}\n",
       "</style><dl class=dl-inline><dt>2.5%</dt><dd>0.752</dd><dt>97.5%</dt><dd>24.425</dd></dl>\n"
      ],
      "text/latex": [
       "\\begin{description*}\n",
       "\\item[2.5\\textbackslash{}\\%] 0.752\n",
       "\\item[97.5\\textbackslash{}\\%] 24.425\n",
       "\\end{description*}\n"
      ],
      "text/markdown": [
       "2.5%\n",
       ":   0.75297.5%\n",
       ":   24.425\n",
       "\n"
      ],
      "text/plain": [
       "  2.5%  97.5% \n",
       " 0.752 24.425 "
      ]
     },
     "metadata": {},
     "output_type": "display_data"
    }
   ],
   "source": [
    "razao_chance <- neuro*(1-psico)/((1-neuro)*psico)\n",
    "round(quantile(razao_chance, \n",
    "               c(0.025, 0.975)),3)"
   ]
  },
  {
   "cell_type": "markdown",
   "metadata": {},
   "source": [
    "Probabilidade posterior aproximada P(Suicídios em Neuróticos &lt; Suicídios em Psicóticos):"
   ]
  },
  {
   "cell_type": "code",
   "execution_count": 6,
   "metadata": {},
   "outputs": [
    {
     "data": {
      "text/html": [
       "0.05626"
      ],
      "text/latex": [
       "0.05626"
      ],
      "text/markdown": [
       "0.05626"
      ],
      "text/plain": [
       "[1] 0.05626"
      ]
     },
     "metadata": {},
     "output_type": "display_data"
    }
   ],
   "source": [
    "mean(neuro < psico)"
   ]
  },
  {
   "cell_type": "markdown",
   "metadata": {},
   "source": [
    "Temos evidência suficiente para acreditar que o número de suicídios em neuróticos é maior que o número de suicídios em psicóticos. Tecnicamente falando, podemos rejeitar H0, pois temos p-valor ~ 0.005522"
   ]
  },
  {
   "cell_type": "markdown",
   "metadata": {},
   "source": [
    "# Exercício 3\n",
    "Foi realizado um inventário entre homens e mulheres realizado a seguinte pergunta: “Você acredita em vida após a morte?”. Os dados se encontram abaixo:\n",
    "\n"
   ]
  },
  {
   "cell_type": "code",
   "execution_count": 7,
   "metadata": {},
   "outputs": [
    {
     "data": {
      "text/html": [
       "<table>\n",
       "<caption>A data.frame: 2 × 2</caption>\n",
       "<thead>\n",
       "\t<tr><th></th><th scope=col>acredito</th><th scope=col>nao_acredito</th></tr>\n",
       "\t<tr><th></th><th scope=col>&lt;dbl&gt;</th><th scope=col>&lt;dbl&gt;</th></tr>\n",
       "</thead>\n",
       "<tbody>\n",
       "\t<tr><th scope=row>masculino</th><td> 859</td><td>413</td></tr>\n",
       "\t<tr><th scope=row>feminino</th><td>1230</td><td>357</td></tr>\n",
       "</tbody>\n",
       "</table>\n"
      ],
      "text/latex": [
       "A data.frame: 2 × 2\n",
       "\\begin{tabular}{r|ll}\n",
       "  & acredito & nao\\_acredito\\\\\n",
       "  & <dbl> & <dbl>\\\\\n",
       "\\hline\n",
       "\tmasculino &  859 & 413\\\\\n",
       "\tfeminino & 1230 & 357\\\\\n",
       "\\end{tabular}\n"
      ],
      "text/markdown": [
       "\n",
       "A data.frame: 2 × 2\n",
       "\n",
       "| <!--/--> | acredito &lt;dbl&gt; | nao_acredito &lt;dbl&gt; |\n",
       "|---|---|---|\n",
       "| masculino |  859 | 413 |\n",
       "| feminino | 1230 | 357 |\n",
       "\n"
      ],
      "text/plain": [
       "          acredito nao_acredito\n",
       "masculino  859     413         \n",
       "feminino  1230     357         "
      ]
     },
     "metadata": {},
     "output_type": "display_data"
    }
   ],
   "source": [
    "dados <- data.frame(acredito = c(859, 1230),\n",
    "                    nao_acredito = c(413, 357))\n",
    "rownames(dados) <- c(\"masculino\", \"feminino\")\n",
    "dados"
   ]
  },
  {
   "cell_type": "markdown",
   "metadata": {},
   "source": [
    "# a)\n",
    "Trate os dados como amostras binomiais independentes, aplique uma estimativa bayesiana para medidas de associação, utilizando priori de Jeffrey (beta(0.5, 0.5)). Encontre a média das estimativas a posteriori das probabilidades de se acreditar em vida após a morte"
   ]
  },
  {
   "cell_type": "markdown",
   "metadata": {},
   "source": [
    "# Resolução\n",
    "\n",
    "Análise a priori de 10mil observações\n"
   ]
  },
  {
   "cell_type": "code",
   "execution_count": 15,
   "metadata": {
    "scrolled": true
   },
   "outputs": [
    {
     "data": {
      "image/png": "[encoded data removed]",
      "text/plain": [
       "Plot with title “Histogram of p_priori”"
      ]
     },
     "metadata": {},
     "output_type": "display_data"
    }
   ],
   "source": [
    "p_priori <- rbeta(100000, shape1 = 0.5, shape2 = 0.5)\n",
    "hist(p_priori)"
   ]
  },
  {
   "cell_type": "markdown",
   "metadata": {},
   "source": [
    "Aplicação da análise ao conjunto de dados:"
   ]
  },
  {
   "cell_type": "code",
   "execution_count": 16,
   "metadata": {},
   "outputs": [
    {
     "data": {
      "image/png": "[encoded data removed]",
      "text/plain": [
       "Plot with title “Histogram of fem”"
      ]
     },
     "metadata": {},
     "output_type": "display_data"
    }
   ],
   "source": [
    "mas <- rbeta(100000, \n",
    "                   shape1 = dados[1,1] + 0.5, \n",
    "                   shape2 = sum(dados[1,]) - dados[1,1] + 0.5) \n",
    "fem <- rbeta(100000,\n",
    "                   shape1 = dados[2,1] + 0.5,\n",
    "                   shape2 = sum(dados[2,]) - dados[2,1] + 0.5)\n",
    "par(mfrow=c(1,2))\n",
    "hist(mas) #\n",
    "hist(fem)"
   ]
  },
  {
   "cell_type": "markdown",
   "metadata": {},
   "source": [
    "Portanto, temos que a razão de chance para cada simulação será (com intervalo de 95%):"
   ]
  },
  {
   "cell_type": "code",
   "execution_count": 17,
   "metadata": {},
   "outputs": [
    {
     "data": {
      "text/html": [
       "<style>\n",
       ".dl-inline {width: auto; margin:0; padding: 0}\n",
       ".dl-inline>dt, .dl-inline>dd {float: none; width: auto; display: inline-block}\n",
       ".dl-inline>dt::after {content: \":\\0020\"; padding-right: .5ex}\n",
       ".dl-inline>dt:not(:first-of-type) {padding-left: .5ex}\n",
       "</style><dl class=dl-inline><dt>2.5%</dt><dd>0.511</dd><dt>97.5%</dt><dd>0.713</dd></dl>\n"
      ],
      "text/latex": [
       "\\begin{description*}\n",
       "\\item[2.5\\textbackslash{}\\%] 0.511\n",
       "\\item[97.5\\textbackslash{}\\%] 0.713\n",
       "\\end{description*}\n"
      ],
      "text/markdown": [
       "2.5%\n",
       ":   0.51197.5%\n",
       ":   0.713\n",
       "\n"
      ],
      "text/plain": [
       " 2.5% 97.5% \n",
       "0.511 0.713 "
      ]
     },
     "metadata": {},
     "output_type": "display_data"
    }
   ],
   "source": [
    "razao_chance <- mas*(1-fem)/((1-mas)*fem)\n",
    "round(quantile(razao_chance, \n",
    "               c(0.025, 0.975)),3)"
   ]
  },
  {
   "cell_type": "markdown",
   "metadata": {},
   "source": [
    "Probabilidade posterior aproximada P(π1<π2) (homens acreditarem menos que mulheres em vida após a morte):"
   ]
  },
  {
   "cell_type": "code",
   "execution_count": 18,
   "metadata": {},
   "outputs": [
    {
     "data": {
      "text/html": [
       "1"
      ],
      "text/latex": [
       "1"
      ],
      "text/markdown": [
       "1"
      ],
      "text/plain": [
       "[1] 1"
      ]
     },
     "metadata": {},
     "output_type": "display_data"
    }
   ],
   "source": [
    "mean(mas < fem)"
   ]
  },
  {
   "cell_type": "markdown",
   "metadata": {},
   "source": [
    "Não temos evidência para provar que homens acreditam em vida após a morte menos que as mulheres."
   ]
  },
  {
   "cell_type": "markdown",
   "metadata": {},
   "source": [
    "# b)\n",
    "Encontre e interprete (i) o intervalo 95% para as diferenças das proporções e da razão de chance; (ii) a probabilidade a posteriori deu que as mulheres tem uma tendência maior de acreditar em vida após a morte do que homens."
   ]
  },
  {
   "cell_type": "markdown",
   "metadata": {},
   "source": [
    "# Resolução\n",
    "Reposcionando a tabela de entrada para a análise: \n",
    "\n",
    "mulheres que acreditam em vida após a morte > homens que acreditam em vida após a morte"
   ]
  },
  {
   "cell_type": "code",
   "execution_count": 19,
   "metadata": {},
   "outputs": [
    {
     "data": {
      "text/html": [
       "<table>\n",
       "<caption>A data.frame: 2 × 2</caption>\n",
       "<thead>\n",
       "\t<tr><th></th><th scope=col>acredito</th><th scope=col>nao_acredito</th></tr>\n",
       "\t<tr><th></th><th scope=col>&lt;dbl&gt;</th><th scope=col>&lt;dbl&gt;</th></tr>\n",
       "</thead>\n",
       "<tbody>\n",
       "\t<tr><th scope=row>feminino</th><td>1230</td><td>357</td></tr>\n",
       "\t<tr><th scope=row>masculino</th><td> 859</td><td>413</td></tr>\n",
       "</tbody>\n",
       "</table>\n"
      ],
      "text/latex": [
       "A data.frame: 2 × 2\n",
       "\\begin{tabular}{r|ll}\n",
       "  & acredito & nao\\_acredito\\\\\n",
       "  & <dbl> & <dbl>\\\\\n",
       "\\hline\n",
       "\tfeminino & 1230 & 357\\\\\n",
       "\tmasculino &  859 & 413\\\\\n",
       "\\end{tabular}\n"
      ],
      "text/markdown": [
       "\n",
       "A data.frame: 2 × 2\n",
       "\n",
       "| <!--/--> | acredito &lt;dbl&gt; | nao_acredito &lt;dbl&gt; |\n",
       "|---|---|---|\n",
       "| feminino | 1230 | 357 |\n",
       "| masculino |  859 | 413 |\n",
       "\n"
      ],
      "text/plain": [
       "          acredito nao_acredito\n",
       "feminino  1230     357         \n",
       "masculino  859     413         "
      ]
     },
     "metadata": {},
     "output_type": "display_data"
    }
   ],
   "source": [
    "dados <- data.frame(acredito = c(1230, 859),\n",
    "                    nao_acredito = c(357, 413))\n",
    "rownames(dados) <- c(\"feminino\", \"masculino\")\n",
    "dados"
   ]
  },
  {
   "cell_type": "code",
   "execution_count": 20,
   "metadata": {},
   "outputs": [
    {
     "data": {
      "image/png": "[encoded data removed]",
      "text/plain": [
       "Plot with title “Histogram of p_priori”"
      ]
     },
     "metadata": {},
     "output_type": "display_data"
    }
   ],
   "source": [
    "p_priori <- rbeta(100000, shape1 = 0.5, shape2 = 0.5)\n",
    "hist(p_priori)"
   ]
  },
  {
   "cell_type": "code",
   "execution_count": 21,
   "metadata": {},
   "outputs": [
    {
     "data": {
      "image/png": "[encoded data removed]",
      "text/plain": [
       "Plot with title “Histogram of mas”"
      ]
     },
     "metadata": {},
     "output_type": "display_data"
    }
   ],
   "source": [
    "fem <- rbeta(100000, \n",
    "                   shape1 = dados[1,1] + 0.5, \n",
    "                   shape2 = sum(dados[1,]) - dados[1,1] + 0.5) \n",
    "mas <- rbeta(100000,\n",
    "                   shape1 = dados[2,1] + 0.5,\n",
    "                   shape2 = sum(dados[2,]) - dados[2,1] + 0.5)\n",
    "par(mfrow=c(1,2))\n",
    "hist(fem) \n",
    "hist(mas)"
   ]
  },
  {
   "cell_type": "code",
   "execution_count": 22,
   "metadata": {},
   "outputs": [
    {
     "data": {
      "text/html": [
       "<style>\n",
       ".dl-inline {width: auto; margin:0; padding: 0}\n",
       ".dl-inline>dt, .dl-inline>dd {float: none; width: auto; display: inline-block}\n",
       ".dl-inline>dt::after {content: \":\\0020\"; padding-right: .5ex}\n",
       ".dl-inline>dt:not(:first-of-type) {padding-left: .5ex}\n",
       "</style><dl class=dl-inline><dt>2.5%</dt><dd>1.403</dd><dt>97.5%</dt><dd>1.959</dd></dl>\n"
      ],
      "text/latex": [
       "\\begin{description*}\n",
       "\\item[2.5\\textbackslash{}\\%] 1.403\n",
       "\\item[97.5\\textbackslash{}\\%] 1.959\n",
       "\\end{description*}\n"
      ],
      "text/markdown": [
       "2.5%\n",
       ":   1.40397.5%\n",
       ":   1.959\n",
       "\n"
      ],
      "text/plain": [
       " 2.5% 97.5% \n",
       "1.403 1.959 "
      ]
     },
     "metadata": {},
     "output_type": "display_data"
    }
   ],
   "source": [
    "razao_chance <- fem*(1-mas)/((1-fem)*mas)\n",
    "round(quantile(razao_chance, \n",
    "               c(0.025, 0.975)),3)"
   ]
  },
  {
   "cell_type": "code",
   "execution_count": 23,
   "metadata": {},
   "outputs": [
    {
     "data": {
      "text/html": [
       "0"
      ],
      "text/latex": [
       "0"
      ],
      "text/markdown": [
       "0"
      ],
      "text/plain": [
       "[1] 0"
      ]
     },
     "metadata": {},
     "output_type": "display_data"
    }
   ],
   "source": [
    "mean(fem < mas)"
   ]
  },
  {
   "cell_type": "markdown",
   "metadata": {},
   "source": [
    "Com o valor de p-valor = 0, podemos aceitar a hipótese alternativa, que diz que mulheres acreditam mais em vida após a morte que os homens"
   ]
  },
  {
   "cell_type": "markdown",
   "metadata": {},
   "source": [
    "# c)\n",
    "Realize um teste de independência utilizando χ2. Conclua sobre o teste de independência."
   ]
  },
  {
   "cell_type": "markdown",
   "metadata": {},
   "source": [
    "# Resolução"
   ]
  },
  {
   "cell_type": "code",
   "execution_count": 24,
   "metadata": {},
   "outputs": [
    {
     "data": {
      "text/plain": [
       "\n",
       "\tPearson's Chi-squared test with Yates' continuity correction\n",
       "\n",
       "data:  dados\n",
       "X-squared = 35.183, df = 1, p-value = 3.001e-09\n"
      ]
     },
     "metadata": {},
     "output_type": "display_data"
    }
   ],
   "source": [
    "chisq.test(dados)"
   ]
  },
  {
   "cell_type": "markdown",
   "metadata": {},
   "source": [
    "Analisando o teste  χ2, podemos concluir que existe independência entre os gêneros (p-valor = 3.001e-09, rejeita-se H0, que diz não haver independência)"
   ]
  },
  {
   "cell_type": "markdown",
   "metadata": {},
   "source": [
    "# d)\n",
    "Faça uma comparação entre a realização dos métodos usando estimativa bayesiana e frequentista (χ2). Os resultados foram diferentes? Qual abordagem mostra-se mais confiável? Por quê?"
   ]
  },
  {
   "cell_type": "markdown",
   "metadata": {},
   "source": [
    "# Resolução\n",
    "\n",
    "Sim, foram diferentes (não conseguimos provar a influência da cateoria \"sexo masculino\" em acreditar mais em vida após a morte. por exemplo).\n",
    "Embora a análise frequentista seja mais simplificada, ela apresenta um resultado mais \"rígido\" de \"verdadeiro\" versus \"falso\". Enquanto que uma análise bayseana, tem o princípio de aleatoriedade de um fator desconhecido, o que acaba sendo uma análise menos rígida e mais detalhista (\"(verdadeiro versus falso) + dado uma distribuição aleatória\"), por isso escolheria a estatística bayseana."
   ]
  },
  {
   "cell_type": "markdown",
   "metadata": {},
   "source": [
    "# <h1>\n",
    "# Apostila 2\n",
    "\n",
    "# Execício 1\n",
    "Quais diferenças existem ao realizarmos um GLM binomial que usa uma função de ligação PROBIT ao invés de LOGIT?\n",
    "\n",
    "\n",
    "# Resolução\n",
    "A função de ligação PROBIT é a análise de chances (probabilidades condicionas (chance de ser automático dado o seu consumo), isso acaba por facilitar a interpretação do evento. E acaba sendo representada por uma função exponencial, onde vai até o infinito.\n",
    "\n",
    "\n",
    "A função de LOGIT é a aplicação logarítmica da chance, o que acaba por linearizar a função. Esse padrão facilita a modelagem estatística, pois ocorre a linearização de uma resposta binomial, podendo aplicar a regressão logística.</h1>"
   ]
  },
  {
   "cell_type": "markdown",
   "metadata": {},
   "source": [
    "# Exercício 2 - Interpretar PROBIT\n",
    "\n",
    "# a)\n",
    "Utilize a mesma relação, mas desta vez utilize dentro da função glm() o argumento family=binomial('probit')"
   ]
  },
  {
   "cell_type": "code",
   "execution_count": 8,
   "metadata": {},
   "outputs": [],
   "source": [
    "#Adicionando os dados do exercício\n",
    "carang <- read.table(\"http://www.stat.ufl.edu/~aa/cat/data/Crabs.dat\", header=TRUE)\n",
    "#Enunciado\n",
    "mod_probit <- glm(y ~ width, family = binomial('probit'), data=carang)"
   ]
  },
  {
   "cell_type": "markdown",
   "metadata": {},
   "source": [
    "# Resolução\n"
   ]
  },
  {
   "cell_type": "code",
   "execution_count": 9,
   "metadata": {
    "scrolled": true
   },
   "outputs": [
    {
     "data": {
      "text/plain": [
       "\n",
       "Call:\n",
       "glm(formula = y ~ width, family = binomial(\"probit\"), data = carang)\n",
       "\n",
       "Deviance Residuals: \n",
       "    Min       1Q   Median       3Q      Max  \n",
       "-2.0519  -1.0494   0.5374   0.9126   1.6897  \n",
       "\n",
       "Coefficients:\n",
       "            Estimate Std. Error z value Pr(>|z|)    \n",
       "(Intercept) -7.50196    1.50712  -4.978 6.44e-07 ***\n",
       "width        0.30202    0.05804   5.204 1.95e-07 ***\n",
       "---\n",
       "Signif. codes:  0 ‘***’ 0.001 ‘**’ 0.01 ‘*’ 0.05 ‘.’ 0.1 ‘ ’ 1\n",
       "\n",
       "(Dispersion parameter for binomial family taken to be 1)\n",
       "\n",
       "    Null deviance: 225.76  on 172  degrees of freedom\n",
       "Residual deviance: 194.04  on 171  degrees of freedom\n",
       "AIC: 198.04\n",
       "\n",
       "Number of Fisher Scoring iterations: 5\n"
      ]
     },
     "metadata": {},
     "output_type": "display_data"
    },
    {
     "data": {
      "text/html": [
       "<style>\n",
       ".dl-inline {width: auto; margin:0; padding: 0}\n",
       ".dl-inline>dt, .dl-inline>dd {float: none; width: auto; display: inline-block}\n",
       ".dl-inline>dt::after {content: \":\\0020\"; padding-right: .5ex}\n",
       ".dl-inline>dt:not(:first-of-type) {padding-left: .5ex}\n",
       "</style><dl class=dl-inline><dt>(Intercept)</dt><dd>-7.50196026966709</dd><dt>width</dt><dd>0.302016731405433</dd></dl>\n"
      ],
      "text/latex": [
       "\\begin{description*}\n",
       "\\item[(Intercept)] -7.50196026966709\n",
       "\\item[width] 0.302016731405433\n",
       "\\end{description*}\n"
      ],
      "text/markdown": [
       "(Intercept)\n",
       ":   -7.50196026966709width\n",
       ":   0.302016731405433\n",
       "\n"
      ],
      "text/plain": [
       "(Intercept)       width \n",
       " -7.5019603   0.3020167 "
      ]
     },
     "metadata": {},
     "output_type": "display_data"
    },
    {
     "data": {
      "text/html": [
       "<strong>(Intercept):</strong> 1.55854167249592"
      ],
      "text/latex": [
       "\\textbf{(Intercept):} 1.55854167249592"
      ],
      "text/markdown": [
       "**(Intercept):** 1.55854167249592"
      ],
      "text/plain": [
       "(Intercept) \n",
       "   1.558542 "
      ]
     },
     "metadata": {},
     "output_type": "display_data"
    },
    {
     "data": {
      "text/html": [
       "<strong>(Intercept):</strong> 0.940447551280319"
      ],
      "text/latex": [
       "\\textbf{(Intercept):} 0.940447551280319"
      ],
      "text/markdown": [
       "**(Intercept):** 0.940447551280319"
      ],
      "text/plain": [
       "(Intercept) \n",
       "  0.9404476 "
      ]
     },
     "metadata": {},
     "output_type": "display_data"
    }
   ],
   "source": [
    "#resultado do modelo\n",
    "summary(mod_probit)\n",
    "#Resolução\n",
    "coef(mod_probit)\n",
    "#interpretação didática\n",
    "width<- 30 #valor a fim de exemplo\n",
    "z <- coef(mod_probit)[1]+coef(mod_probit)[2]*width\n",
    "z\n",
    "pnorm(q=z, mean = 0, sd = 1)"
   ]
  },
  {
   "cell_type": "markdown",
   "metadata": {},
   "source": [
    "A cada aumento de uma unidade de width (cm de largura da fêmea), aumenta 0,30 em z (normal padrão)\n",
    "\n",
    "Uma interpretação de width específico (escolhido): \n",
    "\n",
    "Isso significa que a probabilidade do evento width = 30 acontecer é de 0,94."
   ]
  },
  {
   "cell_type": "markdown",
   "metadata": {},
   "source": [
    "# b)\n",
    "Interprete o modelo e compare com o modelo logit (mod_logit)."
   ]
  },
  {
   "cell_type": "code",
   "execution_count": 10,
   "metadata": {},
   "outputs": [],
   "source": [
    "mod_logit <- glm(y ~ width, family = binomial('logit'), data=carang)"
   ]
  },
  {
   "cell_type": "markdown",
   "metadata": {},
   "source": [
    "# Resolução"
   ]
  },
  {
   "cell_type": "code",
   "execution_count": 11,
   "metadata": {},
   "outputs": [
    {
     "data": {
      "text/plain": [
       "\n",
       "Call:\n",
       "glm(formula = y ~ width, family = binomial(\"logit\"), data = carang)\n",
       "\n",
       "Deviance Residuals: \n",
       "    Min       1Q   Median       3Q      Max  \n",
       "-2.0281  -1.0458   0.5480   0.9066   1.6942  \n",
       "\n",
       "Coefficients:\n",
       "            Estimate Std. Error z value Pr(>|z|)    \n",
       "(Intercept) -12.3508     2.6287  -4.698 2.62e-06 ***\n",
       "width         0.4972     0.1017   4.887 1.02e-06 ***\n",
       "---\n",
       "Signif. codes:  0 ‘***’ 0.001 ‘**’ 0.01 ‘*’ 0.05 ‘.’ 0.1 ‘ ’ 1\n",
       "\n",
       "(Dispersion parameter for binomial family taken to be 1)\n",
       "\n",
       "    Null deviance: 225.76  on 172  degrees of freedom\n",
       "Residual deviance: 194.45  on 171  degrees of freedom\n",
       "AIC: 198.45\n",
       "\n",
       "Number of Fisher Scoring iterations: 4\n"
      ]
     },
     "metadata": {},
     "output_type": "display_data"
    },
    {
     "data": {
      "text/html": [
       "<strong>width:</strong> 1.6441615976214"
      ],
      "text/latex": [
       "\\textbf{width:} 1.6441615976214"
      ],
      "text/markdown": [
       "**width:** 1.6441615976214"
      ],
      "text/plain": [
       "   width \n",
       "1.644162 "
      ]
     },
     "metadata": {},
     "output_type": "display_data"
    }
   ],
   "source": [
    "summary(mod_logit)\n",
    "#razão de chance\n",
    "exp(coef(mod_logit)[2]) #exponencial do coeficiente angular"
   ]
  },
  {
   "cell_type": "markdown",
   "metadata": {},
   "source": [
    "A cada aumento de uma unidade de width, eu aumento a chance em 64,42% da chance de y acontecer."
   ]
  },
  {
   "cell_type": "markdown",
   "metadata": {},
   "source": [
    "# c)\n",
    "Qual é o significado de β1 neste modelo? Interprete utilizando a função qnorm()."
   ]
  },
  {
   "cell_type": "markdown",
   "metadata": {},
   "source": [
    "# Resolução\n",
    "O exponencial de β1 é a razão de chance. Ou seja:\n",
    "\n",
    "chance0:P(Y = 1 | width = X) / P(Y = 0 | width = X)\n",
    "\n",
    "chance1:P(Y = 1 | width = X+1) / P(Y = 0 | width = X+1)\n",
    "\n",
    "Odds Ratio = chance1 / chance0 = exponencial(β1), que é a razão de chance."
   ]
  },
  {
   "cell_type": "markdown",
   "metadata": {},
   "source": [
    "# Exercício 3 - Separação perfeita\n",
    "Veja os dados a seguir e realize um modelo onde y é a VD e x é a VI:"
   ]
  },
  {
   "cell_type": "code",
   "execution_count": 12,
   "metadata": {},
   "outputs": [],
   "source": [
    "x <- c(10, 20, 30, 40, 60, 70, 80, 90); \n",
    "y <- c(0, 0, 0, 0, 1, 1, 1, 1)"
   ]
  },
  {
   "cell_type": "markdown",
   "metadata": {},
   "source": [
    "Construa o modelo logit e interprete o modelo."
   ]
  },
  {
   "cell_type": "markdown",
   "metadata": {},
   "source": [
    "# Resolução"
   ]
  },
  {
   "cell_type": "code",
   "execution_count": 13,
   "metadata": {},
   "outputs": [
    {
     "name": "stderr",
     "output_type": "stream",
     "text": [
      "Warning message:\n",
      "“glm.fit: fitted probabilities numerically 0 or 1 occurred”"
     ]
    },
    {
     "data": {
      "text/plain": [
       "\n",
       "Call:\n",
       "glm(formula = y ~ x, family = binomial(\"logit\"))\n",
       "\n",
       "Deviance Residuals: \n",
       "       Min          1Q      Median          3Q         Max  \n",
       "-1.045e-05  -2.110e-08   0.000e+00   2.110e-08   1.045e-05  \n",
       "\n",
       "Coefficients:\n",
       "              Estimate Std. Error z value Pr(>|z|)\n",
       "(Intercept)   -118.158 296046.187       0        1\n",
       "x                2.363   5805.939       0        1\n",
       "\n",
       "(Dispersion parameter for binomial family taken to be 1)\n",
       "\n",
       "    Null deviance: 1.1090e+01  on 7  degrees of freedom\n",
       "Residual deviance: 2.1827e-10  on 6  degrees of freedom\n",
       "AIC: 4\n",
       "\n",
       "Number of Fisher Scoring iterations: 25\n"
      ]
     },
     "metadata": {},
     "output_type": "display_data"
    },
    {
     "name": "stderr",
     "output_type": "stream",
     "text": [
      "Installing package into ‘/srv/rlibs’\n",
      "(as ‘lib’ is unspecified)\n",
      "Loading required package: tidyverse\n",
      "Registered S3 methods overwritten by 'ggplot2':\n",
      "  method         from \n",
      "  [.quosures     rlang\n",
      "  c.quosures     rlang\n",
      "  print.quosures rlang\n",
      "Registered S3 method overwritten by 'rvest':\n",
      "  method            from\n",
      "  read_xml.response xml2\n",
      "── \u001b[1mAttaching packages\u001b[22m ─────────────────────────────────────── tidyverse 1.2.1 ──\n",
      "\u001b[32m✔\u001b[39m \u001b[34mggplot2\u001b[39m 3.1.1       \u001b[32m✔\u001b[39m \u001b[34mpurrr  \u001b[39m 0.3.2  \n",
      "\u001b[32m✔\u001b[39m \u001b[34mtibble \u001b[39m 2.1.1       \u001b[32m✔\u001b[39m \u001b[34mdplyr  \u001b[39m 0.8.0.\u001b[31m1\u001b[39m\n",
      "\u001b[32m✔\u001b[39m \u001b[34mtidyr  \u001b[39m 0.8.3       \u001b[32m✔\u001b[39m \u001b[34mstringr\u001b[39m 1.4.0  \n",
      "\u001b[32m✔\u001b[39m \u001b[34mreadr  \u001b[39m 1.3.1       \u001b[32m✔\u001b[39m \u001b[34mforcats\u001b[39m 0.4.0  \n",
      "── \u001b[1mConflicts\u001b[22m ────────────────────────────────────────── tidyverse_conflicts() ──\n",
      "\u001b[31m✖\u001b[39m \u001b[34mdplyr\u001b[39m::\u001b[32mfilter()\u001b[39m masks \u001b[34mstats\u001b[39m::filter()\n",
      "\u001b[31m✖\u001b[39m \u001b[34mdplyr\u001b[39m::\u001b[32mlag()\u001b[39m    masks \u001b[34mstats\u001b[39m::lag()\n",
      "Warning message:\n",
      "“glm.fit: fitted probabilities numerically 0 or 1 occurred”"
     ]
    },
    {
     "data": {
      "image/png": "[encoded data removed]",
      "text/plain": [
       "plot without title"
      ]
     },
     "metadata": {},
     "output_type": "display_data"
    },
    {
     "data": {
      "image/png": "[encoded data removed]",
      "text/plain": [
       "plot without title"
      ]
     },
     "metadata": {},
     "output_type": "display_data"
    }
   ],
   "source": [
    "x <- c(10, 20, 30, 40, 60, 70, 80, 90); \n",
    "y <- c(0, 0, 0, 0, 1, 1, 1, 1)\n",
    "\n",
    "mod<- glm(y ~ x, family = binomial('logit'))\n",
    "summary(mod)\n",
    "install.packages(\"tidyverse\")\n",
    "require(tidyverse)\n",
    "p<-data.frame(x,y) %>%ggplot(aes(x=x,y=y))+geom_jitter(height=0.01)\n",
    "p\n",
    "p + stat_smooth(method = \"glm\",method.args=list(family=\"binomial\"),se= TRUE)"
   ]
  },
  {
   "cell_type": "markdown",
   "metadata": {},
   "source": [
    "O exp(coef(mod)[2]) gera a nossa razão de chance.\n",
    "\n",
    "Sendo assim, x: 10.6244760896863, a cada aumento de uma unidade de X, eu aumento a chance em 962,45% da chance de Y acontecer"
   ]
  },
  {
   "cell_type": "markdown",
   "metadata": {},
   "source": [
    "# Exercício 4 - Admission\n",
    "Usando os dados de admissão em universidades nos EUA, onde:\n",
    "\n",
    "admit é uma variável binária (1: admitido, 0: Nao admitido).\n",
    "\n",
    "Duas variáveis contínuas: gre e gpa (notas dos estudantes)\n",
    "\n",
    "rank: valores de 1 a 4. Onde o aluno fez sua graduação, onde 1 são faculdades com prestígio alto, e 4 aquelas com menor prestígio. Deve ser uma variável fator"
   ]
  },
  {
   "cell_type": "code",
   "execution_count": null,
   "metadata": {},
   "outputs": [],
   "source": [
    "dados <- read.csv(\"https://stats.idre.ucla.edu/stat/data/binary.csv\")\n",
    "head(dados)"
   ]
  },
  {
   "cell_type": "code",
   "execution_count": null,
   "metadata": {},
   "outputs": [],
   "source": [
    "dados$rank <- as.factor(dados$rank)"
   ]
  },
  {
   "cell_type": "markdown",
   "metadata": {},
   "source": [
    "# a)\n",
    "utilize as notas de gre para prever a admissão (admit) de um aluno através do método de verossimilhança de um modelo logit, conforme descrito acima. Interprete o modelo."
   ]
  },
  {
   "cell_type": "markdown",
   "metadata": {},
   "source": [
    "# b)\n",
    "utilize as notas de gre para prever a admissão (admit) de um aluno através do método de verossimilhança de um modelo logit, agora utilizando a função glm()."
   ]
  },
  {
   "cell_type": "markdown",
   "metadata": {},
   "source": [
    "# c)\n",
    "Faça um modelo utilizando todas as variáveis disponíveis para prever a admissão do estudante e interprete o modelo."
   ]
  },
  {
   "cell_type": "code",
   "execution_count": null,
   "metadata": {},
   "outputs": [],
   "source": []
  }
 ],
 "metadata": {
  "kernelspec": {
   "display_name": "R",
   "language": "R",
   "name": "ir"
  },
  "language_info": {
   "codemirror_mode": "r",
   "file_extension": ".r",
   "mimetype": "text/x-r-source",
   "name": "R",
   "pygments_lexer": "r",
   "version": "3.6.3"
  }
 },
 "nbformat": 4,
 "nbformat_minor": 1
}
